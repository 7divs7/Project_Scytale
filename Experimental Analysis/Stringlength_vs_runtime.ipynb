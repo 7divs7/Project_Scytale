{
 "cells": [
  {
   "cell_type": "code",
   "execution_count": 1,
   "metadata": {},
   "outputs": [],
   "source": [
    "from critters import *\n",
    "import time\n",
    "import random\n",
    "import string\n",
    "import matplotlib.pyplot as plt\n",
    "%matplotlib inline"
   ]
  },
  {
   "cell_type": "code",
   "execution_count": 2,
   "metadata": {},
   "outputs": [],
   "source": [
    "def generate_string(l):\n",
    "    m = ''.join([random.choice(string.ascii_letters + string.digits) for n in range(l)])\n",
    "    return m\n",
    "\n",
    "message = []\n",
    "for i in range(1,10000,100):\n",
    "    message.append(generate_string(i))\n",
    "# print(message)"
   ]
  },
  {
   "cell_type": "code",
   "execution_count": 3,
   "metadata": {},
   "outputs": [
    {
     "name": "stdout",
     "output_type": "stream",
     "text": [
      "Run Time : 0.0006864070892333984\n",
      "Run Time : 0.008952856063842773\n",
      "Run Time : 0.031207799911499023\n",
      "Run Time : 0.020328521728515625\n",
      "Run Time : 0.02701878547668457\n",
      "Run Time : 0.03291726112365723\n",
      "Run Time : 0.04165482521057129\n",
      "Run Time : 0.04808688163757324\n",
      "Run Time : 0.0556492805480957\n",
      "Run Time : 0.0645451545715332\n",
      "Run Time : 0.0657494068145752\n",
      "Run Time : 0.0709998607635498\n",
      "Run Time : 0.07747411727905273\n",
      "Run Time : 0.08474230766296387\n",
      "Run Time : 0.08962464332580566\n",
      "Run Time : 0.09970784187316895\n",
      "Run Time : 0.10454344749450684\n",
      "Run Time : 0.1105337142944336\n",
      "Run Time : 0.12221860885620117\n",
      "Run Time : 0.12320756912231445\n",
      "Run Time : 0.13162851333618164\n",
      "Run Time : 0.13493585586547852\n",
      "Run Time : 0.14663338661193848\n",
      "Run Time : 0.14765691757202148\n",
      "Run Time : 0.1579422950744629\n",
      "Run Time : 0.17427921295166016\n",
      "Run Time : 0.17057585716247559\n",
      "Run Time : 0.17521405220031738\n",
      "Run Time : 0.18363547325134277\n",
      "Run Time : 0.1894395351409912\n",
      "Run Time : 0.19604754447937012\n",
      "Run Time : 0.19964385032653809\n",
      "Run Time : 0.20873618125915527\n",
      "Run Time : 0.21407628059387207\n",
      "Run Time : 0.2341902256011963\n",
      "Run Time : 0.22792983055114746\n",
      "Run Time : 0.23333048820495605\n",
      "Run Time : 0.24311327934265137\n",
      "Run Time : 0.24718761444091797\n",
      "Run Time : 0.25263261795043945\n",
      "Run Time : 0.26183581352233887\n",
      "Run Time : 0.2696664333343506\n",
      "Run Time : 0.2932710647583008\n",
      "Run Time : 0.2842283248901367\n",
      "Run Time : 0.29190874099731445\n",
      "Run Time : 0.30147504806518555\n",
      "Run Time : 0.30649495124816895\n",
      "Run Time : 0.31183958053588867\n",
      "Run Time : 0.3352189064025879\n",
      "Run Time : 0.3280067443847656\n",
      "Run Time : 0.3343014717102051\n",
      "Run Time : 0.33744120597839355\n",
      "Run Time : 0.3459804058074951\n",
      "Run Time : 0.3634772300720215\n",
      "Run Time : 0.3589615821838379\n",
      "Run Time : 0.3644859790802002\n",
      "Run Time : 0.37184858322143555\n",
      "Run Time : 0.38098788261413574\n",
      "Run Time : 0.39462828636169434\n",
      "Run Time : 0.3907277584075928\n",
      "Run Time : 0.4002234935760498\n",
      "Run Time : 0.40631985664367676\n",
      "Run Time : 0.4157075881958008\n",
      "Run Time : 0.4354732036590576\n",
      "Run Time : 0.4304056167602539\n",
      "Run Time : 0.4369673728942871\n",
      "Run Time : 0.44582462310791016\n",
      "Run Time : 0.4672682285308838\n",
      "Run Time : 0.4616243839263916\n",
      "Run Time : 0.4647793769836426\n",
      "Run Time : 0.4727921485900879\n",
      "Run Time : 0.4913673400878906\n",
      "Run Time : 0.48524951934814453\n",
      "Run Time : 0.49225568771362305\n",
      "Run Time : 0.4989795684814453\n",
      "Run Time : 0.5138959884643555\n",
      "Run Time : 0.5083122253417969\n",
      "Run Time : 0.5123381614685059\n",
      "Run Time : 0.535865068435669\n",
      "Run Time : 0.5262408256530762\n",
      "Run Time : 0.5345394611358643\n",
      "Run Time : 0.5391881465911865\n",
      "Run Time : 0.5599448680877686\n",
      "Run Time : 0.5598242282867432\n",
      "Run Time : 0.5624516010284424\n",
      "Run Time : 0.584693431854248\n",
      "Run Time : 0.5858893394470215\n",
      "Run Time : 0.5812814235687256\n",
      "Run Time : 0.6030735969543457\n",
      "Run Time : 0.5971734523773193\n",
      "Run Time : 0.6050670146942139\n",
      "Run Time : 0.6212449073791504\n",
      "Run Time : 0.6142892837524414\n",
      "Run Time : 0.6195812225341797\n",
      "Run Time : 0.6437423229217529\n",
      "Run Time : 0.6354866027832031\n",
      "Run Time : 0.6430206298828125\n",
      "Run Time : 0.662482738494873\n",
      "Run Time : 0.6556155681610107\n",
      "Run Time : 0.6774108409881592\n"
     ]
    }
   ],
   "source": [
    "blocksize = 8\n",
    "privatekey = 8\n",
    "time_taken = []\n",
    "for plaintext in message:\n",
    "    start = time.time()\n",
    "    ciphertext = encrypt(plaintext,iterations=privatekey,blocksize=blocksize)\n",
    "    decryptedtext = decrypt(ciphertext,iterations=privatekey,blocksize=blocksize)\n",
    "    end = time.time()\n",
    "    time_taken.append(end-start)\n",
    "    print('Run Time : ' + str(end-start)) "
   ]
  },
  {
   "cell_type": "code",
   "execution_count": 4,
   "metadata": {},
   "outputs": [
    {
     "data": {
      "text/plain": [
       "Text(0, 0.5, 'Runtime')"
      ]
     },
     "execution_count": 4,
     "metadata": {},
     "output_type": "execute_result"
    },
    {
     "data": {
      "image/png": "[encoded data removed]",
      "text/plain": [
       "<Figure size 432x288 with 1 Axes>"
      ]
     },
     "metadata": {
      "needs_background": "light"
     },
     "output_type": "display_data"
    }
   ],
   "source": [
    "x = [i for i in range(1,10000,100)]\n",
    "plt.plot(x, time_taken,'-', color ='blue') \n",
    "#plt.title('Stringlength vs runtime')\n",
    "plt.xlabel('Stringlength')\n",
    "plt.ylabel('Runtime')"
   ]
  }
 ],
 "metadata": {
  "kernelspec": {
   "display_name": "Python 3",
   "language": "python",
   "name": "python3"
  },
  "language_info": {
   "codemirror_mode": {
    "name": "ipython",
    "version": 3
   },
   "file_extension": ".py",
   "mimetype": "text/x-python",
   "name": "python",
   "nbconvert_exporter": "python",
   "pygments_lexer": "ipython3",
   "version": "3.8.2"
  }
 },
 "nbformat": 4,
 "nbformat_minor": 4
}
