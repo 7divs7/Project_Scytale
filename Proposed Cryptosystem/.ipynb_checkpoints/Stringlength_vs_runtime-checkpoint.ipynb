{
 "cells": [
  {
   "cell_type": "code",
   "execution_count": 1,
   "metadata": {},
   "outputs": [],
   "source": [
    "from critters import *\n",
    "import time\n",
    "import random\n",
    "import string\n",
    "import matplotlib.pyplot as plt\n",
    "%matplotlib inline"
   ]
  },
  {
   "cell_type": "code",
   "execution_count": 2,
   "metadata": {},
   "outputs": [],
   "source": [
    "def generate_string(l):\n",
    "    m = ''.join([random.choice(string.ascii_letters + string.digits) for n in range(l)])\n",
    "    return m\n",
    "\n",
    "message = []\n",
    "for i in range(1,10000,100):\n",
    "    message.append(generate_string(i))\n",
    "# print(message)"
   ]
  },
  {
   "cell_type": "code",
   "execution_count": 3,
   "metadata": {},
   "outputs": [
    {
     "name": "stdout",
     "output_type": "stream",
     "text": [
      "Run Time : 0.0019364356994628906\n",
      "Run Time : 0.011180400848388672\n",
      "Run Time : 0.03285861015319824\n",
      "Run Time : 0.034932851791381836\n",
      "Run Time : 0.0491786003112793\n",
      "Run Time : 0.04751300811767578\n",
      "Run Time : 0.04357552528381348\n",
      "Run Time : 0.050272464752197266\n",
      "Run Time : 0.05899190902709961\n",
      "Run Time : 0.07303881645202637\n",
      "Run Time : 0.07321834564208984\n",
      "Run Time : 0.07869267463684082\n",
      "Run Time : 0.09374356269836426\n",
      "Run Time : 0.09564733505249023\n",
      "Run Time : 0.10140800476074219\n",
      "Run Time : 0.11484694480895996\n",
      "Run Time : 0.11349320411682129\n",
      "Run Time : 0.12496042251586914\n",
      "Run Time : 0.13941717147827148\n",
      "Run Time : 0.14122509956359863\n",
      "Run Time : 0.14226436614990234\n",
      "Run Time : 0.15747618675231934\n",
      "Run Time : 0.15620017051696777\n",
      "Run Time : 0.17035937309265137\n",
      "Run Time : 0.16962385177612305\n",
      "Run Time : 0.20172381401062012\n",
      "Run Time : 0.1864168643951416\n",
      "Run Time : 0.22073149681091309\n",
      "Run Time : 0.22070026397705078\n",
      "Run Time : 0.2328627109527588\n",
      "Run Time : 0.2410259246826172\n",
      "Run Time : 0.25107717514038086\n",
      "Run Time : 0.2539238929748535\n",
      "Run Time : 0.26818323135375977\n",
      "Run Time : 0.2896232604980469\n",
      "Run Time : 0.2820565700531006\n",
      "Run Time : 0.2908768653869629\n",
      "Run Time : 0.30046916007995605\n",
      "Run Time : 0.3106083869934082\n",
      "Run Time : 0.31417298316955566\n",
      "Run Time : 0.3224492073059082\n",
      "Run Time : 0.3318917751312256\n",
      "Run Time : 0.3506929874420166\n",
      "Run Time : 0.34368300437927246\n",
      "Run Time : 0.35274744033813477\n",
      "Run Time : 0.3592236042022705\n",
      "Run Time : 0.3682730197906494\n",
      "Run Time : 0.37709522247314453\n",
      "Run Time : 0.39869022369384766\n",
      "Run Time : 0.39531707763671875\n",
      "Run Time : 0.40291762351989746\n",
      "Run Time : 0.4112560749053955\n",
      "Run Time : 0.42382264137268066\n",
      "Run Time : 0.44296765327453613\n",
      "Run Time : 0.43396949768066406\n",
      "Run Time : 0.43988728523254395\n",
      "Run Time : 0.4501063823699951\n",
      "Run Time : 0.4571402072906494\n",
      "Run Time : 0.47983837127685547\n",
      "Run Time : 0.4772474765777588\n",
      "Run Time : 0.4798440933227539\n",
      "Run Time : 0.4927499294281006\n",
      "Run Time : 0.5022838115692139\n",
      "Run Time : 0.5284481048583984\n",
      "Run Time : 0.520014762878418\n",
      "Run Time : 0.5281102657318115\n",
      "Run Time : 0.5299839973449707\n",
      "Run Time : 0.5559689998626709\n",
      "Run Time : 0.5495193004608154\n",
      "Run Time : 0.5555202960968018\n",
      "Run Time : 0.569951057434082\n",
      "Run Time : 0.5856680870056152\n",
      "Run Time : 0.5912868976593018\n",
      "Run Time : 0.5962181091308594\n",
      "Run Time : 0.5953264236450195\n",
      "Run Time : 0.6188840866088867\n",
      "Run Time : 0.6103379726409912\n",
      "Run Time : 0.651543378829956\n",
      "Run Time : 0.6095089912414551\n",
      "Run Time : 0.5772204399108887\n",
      "Run Time : 0.6127090454101562\n",
      "Run Time : 0.6088249683380127\n",
      "Run Time : 0.6145029067993164\n",
      "Run Time : 0.598616361618042\n",
      "Run Time : 0.6691713333129883\n",
      "Run Time : 0.7001693248748779\n",
      "Run Time : 0.6917283535003662\n",
      "Run Time : 0.7000961303710938\n",
      "Run Time : 0.7312207221984863\n",
      "Run Time : 0.7262628078460693\n",
      "Run Time : 0.7272684574127197\n",
      "Run Time : 0.7513613700866699\n",
      "Run Time : 0.7410345077514648\n",
      "Run Time : 0.746453046798706\n",
      "Run Time : 0.7698218822479248\n",
      "Run Time : 0.7660222053527832\n",
      "Run Time : 0.7842037677764893\n",
      "Run Time : 0.7962636947631836\n",
      "Run Time : 0.7906136512756348\n",
      "Run Time : 0.8087141513824463\n"
     ]
    }
   ],
   "source": [
    "blocksize = 8\n",
    "privatekey = 8\n",
    "time_taken = []\n",
    "for plaintext in message:\n",
    "    start = time.time()\n",
    "    ciphertext = encrypt(plaintext,iterations=privatekey,blocksize=blocksize)\n",
    "    decryptedtext = decrypt(ciphertext,iterations=privatekey,blocksize=blocksize)\n",
    "    end = time.time()\n",
    "    time_taken.append(end-start)\n",
    "    print('Run Time : ' + str(end-start)) "
   ]
  },
  {
   "cell_type": "code",
   "execution_count": 4,
   "metadata": {},
   "outputs": [
    {
     "data": {
      "text/plain": [
       "Text(0, 0.5, 'Runtime')"
      ]
     },
     "execution_count": 4,
     "metadata": {},
     "output_type": "execute_result"
    },
    {
     "data": {
      "image/png": "[encoded data removed]",
      "text/plain": [
       "<Figure size 432x288 with 1 Axes>"
      ]
     },
     "metadata": {
      "needs_background": "light"
     },
     "output_type": "display_data"
    }
   ],
   "source": [
    "x = [i for i in range(1,10000,100)]\n",
    "plt.plot(x, time_taken,'-', color ='blue') \n",
    "#plt.title('Stringlength vs runtime')\n",
    "plt.xlabel('Stringlength')\n",
    "plt.ylabel('Runtime')"
   ]
  }
 ],
 "metadata": {
  "kernelspec": {
   "display_name": "Python 3",
   "language": "python",
   "name": "python3"
  },
  "language_info": {
   "codemirror_mode": {
    "name": "ipython",
    "version": 3
   },
   "file_extension": ".py",
   "mimetype": "text/x-python",
   "name": "python",
   "nbconvert_exporter": "python",
   "pygments_lexer": "ipython3",
   "version": "3.8.2"
  }
 },
 "nbformat": 4,
 "nbformat_minor": 4
}
