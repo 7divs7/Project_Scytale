{
 "cells": [
  {
   "cell_type": "code",
   "execution_count": 1,
   "metadata": {},
   "outputs": [],
   "source": [
    "from critters import *\n",
    "import time\n",
    "import random\n",
    "import string\n",
    "import matplotlib.pyplot as plt\n",
    "%matplotlib inline"
   ]
  },
  {
   "cell_type": "code",
   "execution_count": 2,
   "metadata": {},
   "outputs": [],
   "source": [
    "def generate_string(l):\n",
    "    m = ''.join([random.choice(string.ascii_letters + string.digits) for n in range(l)])\n",
    "    return m\n",
    "\n",
    "message = []\n",
    "for i in range(1,10000,100):\n",
    "    message.append(generate_string(i))\n",
    "# print(message)"
   ]
  },
  {
   "cell_type": "code",
   "execution_count": 3,
   "metadata": {},
   "outputs": [
    {
     "name": "stdout",
     "output_type": "stream",
     "text": [
      "Run Time : 0.0012195110321044922\n",
      "Run Time : 0.01140284538269043\n",
      "Run Time : 0.04763317108154297\n",
      "Run Time : 0.03374147415161133\n",
      "Run Time : 0.04416656494140625\n",
      "Run Time : 0.041619062423706055\n",
      "Run Time : 0.049054622650146484\n",
      "Run Time : 0.056787967681884766\n",
      "Run Time : 0.0654594898223877\n",
      "Run Time : 0.07823061943054199\n",
      "Run Time : 0.08147048950195312\n",
      "Run Time : 0.09053325653076172\n",
      "Run Time : 0.10194039344787598\n",
      "Run Time : 0.10401701927185059\n",
      "Run Time : 0.11796760559082031\n",
      "Run Time : 0.11829209327697754\n",
      "Run Time : 0.13131356239318848\n",
      "Run Time : 0.1420130729675293\n",
      "Run Time : 0.1503756046295166\n",
      "Run Time : 0.15609478950500488\n",
      "Run Time : 0.16653227806091309\n",
      "Run Time : 0.168501615524292\n",
      "Run Time : 0.18012690544128418\n",
      "Run Time : 0.1814720630645752\n",
      "Run Time : 0.19630789756774902\n",
      "Run Time : 0.21384525299072266\n",
      "Run Time : 0.20994138717651367\n",
      "Run Time : 0.21918034553527832\n",
      "Run Time : 0.22109150886535645\n",
      "Run Time : 0.23887395858764648\n",
      "Run Time : 0.24386334419250488\n",
      "Run Time : 0.2456493377685547\n",
      "Run Time : 0.2605166435241699\n",
      "Run Time : 0.27156567573547363\n",
      "Run Time : 0.2971184253692627\n",
      "Run Time : 0.2873852252960205\n",
      "Run Time : 0.29469943046569824\n",
      "Run Time : 0.30336737632751465\n",
      "Run Time : 0.3385202884674072\n",
      "Run Time : 0.3176548480987549\n",
      "Run Time : 0.3137233257293701\n",
      "Run Time : 0.30350756645202637\n",
      "Run Time : 0.3259403705596924\n",
      "Run Time : 0.323397159576416\n",
      "Run Time : 0.32317233085632324\n",
      "Run Time : 0.39652347564697266\n",
      "Run Time : 0.34059977531433105\n",
      "Run Time : 0.34659695625305176\n",
      "Run Time : 0.3732583522796631\n",
      "Run Time : 0.3635430335998535\n",
      "Run Time : 0.38000941276550293\n",
      "Run Time : 0.41421937942504883\n",
      "Run Time : 0.4203805923461914\n",
      "Run Time : 0.44715332984924316\n",
      "Run Time : 0.4386129379272461\n",
      "Run Time : 0.44701218605041504\n",
      "Run Time : 0.4532809257507324\n",
      "Run Time : 0.45744848251342773\n",
      "Run Time : 0.48447465896606445\n",
      "Run Time : 0.4752469062805176\n",
      "Run Time : 0.48058080673217773\n",
      "Run Time : 0.49251890182495117\n",
      "Run Time : 0.5039768218994141\n",
      "Run Time : 0.5245609283447266\n",
      "Run Time : 0.5238502025604248\n",
      "Run Time : 0.5292716026306152\n",
      "Run Time : 0.5420594215393066\n",
      "Run Time : 0.5655169486999512\n",
      "Run Time : 0.5538427829742432\n",
      "Run Time : 0.5645754337310791\n",
      "Run Time : 0.5711536407470703\n",
      "Run Time : 0.5934009552001953\n",
      "Run Time : 0.5900506973266602\n",
      "Run Time : 0.597907304763794\n",
      "Run Time : 0.6025068759918213\n",
      "Run Time : 0.6263585090637207\n",
      "Run Time : 0.6198256015777588\n",
      "Run Time : 0.6254262924194336\n",
      "Run Time : 0.6512959003448486\n",
      "Run Time : 0.6426002979278564\n",
      "Run Time : 0.6509277820587158\n",
      "Run Time : 0.6551640033721924\n",
      "Run Time : 0.6837618350982666\n",
      "Run Time : 0.6741859912872314\n",
      "Run Time : 0.6817996501922607\n",
      "Run Time : 0.7052271366119385\n",
      "Run Time : 0.6905601024627686\n",
      "Run Time : 0.7044980525970459\n",
      "Run Time : 0.7355935573577881\n",
      "Run Time : 0.7238209247589111\n",
      "Run Time : 0.7260231971740723\n",
      "Run Time : 0.7612695693969727\n",
      "Run Time : 0.7491936683654785\n",
      "Run Time : 0.7532672882080078\n",
      "Run Time : 0.7771780490875244\n",
      "Run Time : 0.7744860649108887\n",
      "Run Time : 0.785346269607544\n",
      "Run Time : 0.7974166870117188\n",
      "Run Time : 0.793698787689209\n",
      "Run Time : 0.8266599178314209\n"
     ]
    }
   ],
   "source": [
    "blocksize = 8\n",
    "privatekey = 8\n",
    "time_taken = []\n",
    "for plaintext in message:\n",
    "    start = time.time()\n",
    "    ciphertext = encrypt(plaintext,iterations=privatekey,blocksize=blocksize)\n",
    "    decryptedtext = decrypt(ciphertext,iterations=privatekey,blocksize=blocksize)\n",
    "    end = time.time()\n",
    "    time_taken.append(end-start)\n",
    "    print('Run Time : ' + str(end-start)) "
   ]
  },
  {
   "cell_type": "code",
   "execution_count": 4,
   "metadata": {},
   "outputs": [
    {
     "data": {
      "text/plain": [
       "Text(0, 0.5, 'Runtime')"
      ]
     },
     "execution_count": 4,
     "metadata": {},
     "output_type": "execute_result"
    },
    {
     "data": {
      "image/png": "[encoded data removed]",
      "text/plain": [
       "<Figure size 432x288 with 1 Axes>"
      ]
     },
     "metadata": {
      "needs_background": "light"
     },
     "output_type": "display_data"
    }
   ],
   "source": [
    "x = [i for i in range(1,10000,100)]\n",
    "plt.plot(x, time_taken,'-', color ='blue') \n",
    "#plt.title('Stringlength vs runtime')\n",
    "plt.xlabel('Stringlength')\n",
    "plt.ylabel('Runtime')"
   ]
  }
 ],
 "metadata": {
  "kernelspec": {
   "display_name": "Python 3",
   "language": "python",
   "name": "python3"
  },
  "language_info": {
   "codemirror_mode": {
    "name": "ipython",
    "version": 3
   },
   "file_extension": ".py",
   "mimetype": "text/x-python",
   "name": "python",
   "nbconvert_exporter": "python",
   "pygments_lexer": "ipython3",
   "version": "3.8.2"
  }
 },
 "nbformat": 4,
 "nbformat_minor": 4
}
