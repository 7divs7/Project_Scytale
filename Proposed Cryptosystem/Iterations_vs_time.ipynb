{
 "cells": [
  {
   "cell_type": "code",
   "execution_count": 1,
   "metadata": {},
   "outputs": [],
   "source": [
    "from critters import *\n",
    "import time\n",
    "import random\n",
    "import string\n",
    "import matplotlib.pyplot as plt\n",
    "%matplotlib inline"
   ]
  },
  {
   "cell_type": "code",
   "execution_count": 2,
   "metadata": {},
   "outputs": [
    {
     "name": "stdout",
     "output_type": "stream",
     "text": [
      "[1, 2, 4, 8, 16, 32, 64]\n"
     ]
    }
   ],
   "source": [
    "powersof2 = [pow(2,i) for i in range(7)]\n",
    "print(powersof2)"
   ]
  },
  {
   "cell_type": "code",
   "execution_count": 3,
   "metadata": {},
   "outputs": [
    {
     "name": "stdout",
     "output_type": "stream",
     "text": [
      "1        0.14881038665771484\n",
      "2        0.20952558517456055\n",
      "4        0.3616652488708496\n",
      "8        0.6795539855957031\n",
      "16        1.3029704093933105\n",
      "32        2.5134897232055664\n",
      "64        5.040002822875977\n"
     ]
    }
   ],
   "source": [
    "blocksize = 8\n",
    "privatekeys = [i for i in range(1,65)]\n",
    "time_taken = []\n",
    "plaintext = 'abcdefghij'*1000\n",
    "for privatekey in privatekeys:\n",
    "    start = time.time()\n",
    "    ciphertext = encrypt(plaintext,iterations=privatekey,blocksize=blocksize)\n",
    "    decryptedtext = decrypt(ciphertext,iterations=privatekey,blocksize=blocksize)\n",
    "    end = time.time()\n",
    "    time_taken.append(end-start)\n",
    "    if privatekey in powersof2:\n",
    "        print(str(privatekey) + '        ' + str(end-start)) "
   ]
  },
  {
   "cell_type": "code",
   "execution_count": 4,
   "metadata": {},
   "outputs": [
    {
     "data": {
      "text/plain": [
       "Text(0, 0.5, 'Runtime')"
      ]
     },
     "execution_count": 4,
     "metadata": {},
     "output_type": "execute_result"
    },
    {
     "data": {
      "image/png": "[encoded data removed]",
      "text/plain": [
       "<Figure size 432x288 with 1 Axes>"
      ]
     },
     "metadata": {
      "needs_background": "light"
     },
     "output_type": "display_data"
    }
   ],
   "source": [
    "x = [i for i in range(1,65)]\n",
    "plt.plot(x, time_taken,'-', color ='blue') \n",
    "plt.xlabel('Number of Iterations')\n",
    "plt.ylabel('Runtime')"
   ]
  }
 ],
 "metadata": {
  "kernelspec": {
   "display_name": "Python 3",
   "language": "python",
   "name": "python3"
  },
  "language_info": {
   "codemirror_mode": {
    "name": "ipython",
    "version": 3
   },
   "file_extension": ".py",
   "mimetype": "text/x-python",
   "name": "python",
   "nbconvert_exporter": "python",
   "pygments_lexer": "ipython3",
   "version": "3.8.2"
  }
 },
 "nbformat": 4,
 "nbformat_minor": 4
}
