{
 "cells": [
  {
   "cell_type": "code",
   "execution_count": 1,
   "metadata": {},
   "outputs": [],
   "source": [
    "from critters import *\n",
    "import time\n",
    "import random\n",
    "import string\n",
    "import matplotlib.pyplot as plt\n",
    "%matplotlib inline"
   ]
  },
  {
   "cell_type": "code",
   "execution_count": 2,
   "metadata": {},
   "outputs": [],
   "source": [
    "blocksize = 8\n",
    "privatekeys = [8,32,64]\n",
    "time_taken = []\n",
    "epochs = 5\n",
    "t_lst = []\n",
    "for i in range(epochs):\n",
    "    plaintext = 'abcdefghij'*(10**i)\n",
    "    temp = []\n",
    "    for privatekey in privatekeys:\n",
    "        start = time.time()\n",
    "        ciphertext = encrypt(plaintext,iterations=privatekey,blocksize=blocksize)\n",
    "        decryptedtext = decrypt(ciphertext,iterations=privatekey,blocksize=blocksize)\n",
    "        end = time.time()\n",
    "        temp.append(end-start)\n",
    "    t_lst.append(temp)"
   ]
  },
  {
   "cell_type": "code",
   "execution_count": 3,
   "metadata": {},
   "outputs": [
    {
     "name": "stdout",
     "output_type": "stream",
     "text": [
      "                                 Private Key                        \n",
      "Stringlength      8 iterations      32 iterations      64 iterations\n",
      "10^1\t\t\t0.002\t\t0.007\t\t0.011\n",
      "10^2\t\t\t0.008\t\t0.035\t\t0.056\n",
      "10^3\t\t\t0.085\t\t0.301\t\t0.527\n",
      "10^4\t\t\t0.71\t\t2.909\t\t6.237\n",
      "10^5\t\t\t7.986\t\t29.715\t\t58.56\n"
     ]
    }
   ],
   "source": [
    "print('                                 Private Key                        ')\n",
    "print('Stringlength      8 iterations      32 iterations      64 iterations')\n",
    "time_block_8 = []\n",
    "time_block_32 = []\n",
    "time_block_64 = []\n",
    "\n",
    "for t in range(len(t_lst)):\n",
    "    time_block_8.append(t_lst[t][0])\n",
    "    time_block_32.append(t_lst[t][1])\n",
    "    time_block_64.append(t_lst[t][2])\n",
    "    print('10^'+str(t+1)+'\\t\\t\\t'+str(round(t_lst[t][0],3))+'\\t\\t'+str(round(t_lst[t][1],3))+'\\t\\t'+str(round(t_lst[t][2],3)))"
   ]
  },
  {
   "cell_type": "code",
   "execution_count": 4,
   "metadata": {},
   "outputs": [
    {
     "data": {
      "text/plain": [
       "<matplotlib.legend.Legend at 0x7fa774abb940>"
      ]
     },
     "execution_count": 4,
     "metadata": {},
     "output_type": "execute_result"
    },
    {
     "data": {
      "image/png": "[encoded data removed]",
      "text/plain": [
       "<Figure size 432x288 with 1 Axes>"
      ]
     },
     "metadata": {
      "needs_background": "light"
     },
     "output_type": "display_data"
    }
   ],
   "source": [
    "x = []\n",
    "for i in range(1,epochs+1):\n",
    "    x.append(10**i)\n",
    "\n",
    "plt.plot(x, time_block_8,'-', color ='blue', label =\"8\") \n",
    "plt.plot(x, time_block_32, '-', color ='red', label =\"32\")\n",
    "plt.plot(x, time_block_64, '-', color ='green', label =\"64\")\n",
    "#plt.title('Stringlength vs runtime')\n",
    "plt.xlabel('Stringlength')\n",
    "plt.ylabel('Runtime')\n",
    "plt.legend(loc=\"best\",title=\"Private Keys\")"
   ]
  }
 ],
 "metadata": {
  "kernelspec": {
   "display_name": "Python 3",
   "language": "python",
   "name": "python3"
  },
  "language_info": {
   "codemirror_mode": {
    "name": "ipython",
    "version": 3
   },
   "file_extension": ".py",
   "mimetype": "text/x-python",
   "name": "python",
   "nbconvert_exporter": "python",
   "pygments_lexer": "ipython3",
   "version": "3.8.2"
  }
 },
 "nbformat": 4,
 "nbformat_minor": 4
}
